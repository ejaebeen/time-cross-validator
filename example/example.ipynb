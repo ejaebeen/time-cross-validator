{
 "cells": [
  {
   "cell_type": "markdown",
   "id": "f150ca3b",
   "metadata": {},
   "source": [
    "# Example of using ftcv"
   ]
  },
  {
   "cell_type": "code",
   "execution_count": 1,
   "id": "e517c58e",
   "metadata": {},
   "outputs": [
    {
     "name": "stderr",
     "output_type": "stream",
     "text": [
      "C:\\Users\\ejaeb\\anaconda3\\lib\\site-packages\\xgboost\\compat.py:36: FutureWarning: pandas.Int64Index is deprecated and will be removed from pandas in a future version. Use pandas.Index with the appropriate dtype instead.\n",
      "  from pandas import MultiIndex, Int64Index\n"
     ]
    }
   ],
   "source": [
    "import pandas as pd\n",
    "import os \n",
    "from datetime import datetime, timedelta\n",
    "import warnings\n",
    "import numpy as np\n",
    "from xgboost import XGBClassifier\n",
    "from sklearn.pipeline import Pipeline\n",
    "from sklearn.preprocessing import StandardScaler\n",
    "from sklearn.linear_model import LogisticRegression\n",
    "\n",
    "warnings.filterwarnings('ignore')\n",
    "os.chdir(\"..\")"
   ]
  },
  {
   "cell_type": "markdown",
   "id": "c5f095a7",
   "metadata": {},
   "source": [
    "Use synthetic data generated from synthetic-transaction-generator"
   ]
  },
  {
   "cell_type": "code",
   "execution_count": 2,
   "id": "299a21bd",
   "metadata": {},
   "outputs": [],
   "source": [
    "df = pd.read_csv(\"example/sim_data_2020-01-01_2022-07-01.csv\", index_col=0)\n",
    "\n",
    "df['transaction_date'] = pd.to_datetime(df['transaction_date'])\n",
    "df['fraud_identified_date'] = pd.to_datetime(df['fraud_identified_date'])\n",
    "\n",
    "df = df.sort_values('transaction_date')\n",
    "df = df.reset_index(drop=True)\n",
    "\n",
    "X = df[['transaction_amount','1','2','3','4','5','6','7','8']]\n",
    "y = df['fraud']\n",
    "date_ref = df['transaction_date']\n",
    "fraud_detected_date_ref = df['fraud_identified_date']"
   ]
  },
  {
   "cell_type": "markdown",
   "id": "1e03eb7c",
   "metadata": {},
   "source": [
    "Obtain idx of each train/test fold with FraudTimeSplit"
   ]
  },
  {
   "cell_type": "code",
   "execution_count": 3,
   "id": "cad2dc92",
   "metadata": {},
   "outputs": [
    {
     "name": "stdout",
     "output_type": "stream",
     "text": [
      "TRAIN Int64Index([    0,     1,     2,     3,     4,     5,     6,     7,     8,\n",
      "                9,\n",
      "            ...\n",
      "            67468, 67510, 67527, 67529, 67887, 67986, 68111, 68309, 68523,\n",
      "            68763],\n",
      "           dtype='int64', length=29710)\n",
      "TEST Int64Index([ 28024,  28025,  28026,  28028,  28029,  28030,  28031,  28032,\n",
      "             28033,  28034,\n",
      "            ...\n",
      "            136825, 136828, 136868, 136897, 136939, 136940, 137151, 137153,\n",
      "            137154, 137401],\n",
      "           dtype='int64', length=69169)\n",
      "TRAIN Int64Index([     0,      1,      2,      3,      4,      5,      6,      7,\n",
      "                 8,      9,\n",
      "            ...\n",
      "            136825, 136828, 136868, 136897, 136939, 136940, 137151, 137153,\n",
      "            137154, 137401],\n",
      "           dtype='int64', length=98879)\n",
      "TEST Int64Index([ 97253,  97254,  97255,  97256,  97257,  97258,  97259,  97260,\n",
      "             97261,  97262,\n",
      "            ...\n",
      "            205240, 205241, 205249, 205266, 205579, 205581, 205601, 205627,\n",
      "            205930, 206363],\n",
      "           dtype='int64', length=68749)\n",
      "TRAIN Int64Index([     0,      1,      2,      3,      4,      5,      6,      7,\n",
      "                 8,      9,\n",
      "            ...\n",
      "            205240, 205241, 205249, 205266, 205579, 205581, 205601, 205627,\n",
      "            205930, 206363],\n",
      "           dtype='int64', length=167628)\n",
      "TEST Int64Index([165938, 165939, 165940, 165941, 165942, 165943, 165944, 165945,\n",
      "            165946, 165947,\n",
      "            ...\n",
      "            274656, 274665, 274671, 274718, 274719, 274805, 275037, 275111,\n",
      "            275112, 275918],\n",
      "           dtype='int64', length=69214)\n",
      "TRAIN Int64Index([     0,      1,      2,      3,      4,      5,      6,      7,\n",
      "                 8,      9,\n",
      "            ...\n",
      "            274656, 274665, 274671, 274718, 274719, 274805, 275037, 275111,\n",
      "            275112, 275918],\n",
      "           dtype='int64', length=236842)\n",
      "TEST Int64Index([235244, 235245, 235246, 235247, 235248, 235249, 235251, 235252,\n",
      "            235253, 235254,\n",
      "            ...\n",
      "            343819, 343894, 344015, 344212, 344213, 344272, 344481, 344482,\n",
      "            344551, 344710],\n",
      "           dtype='int64', length=68995)\n",
      "TRAIN Int64Index([     0,      1,      2,      3,      4,      5,      6,      7,\n",
      "                 8,      9,\n",
      "            ...\n",
      "            343819, 343894, 344015, 344212, 344213, 344272, 344481, 344482,\n",
      "            344551, 344710],\n",
      "           dtype='int64', length=305837)\n",
      "TEST Int64Index([304188, 304189, 304190, 304191, 304192, 304193, 304194, 304195,\n",
      "            304197, 304198,\n",
      "            ...\n",
      "            412697, 412791, 412810, 412815, 413109, 413110, 413260, 413288,\n",
      "            413597, 413772],\n",
      "           dtype='int64', length=69109)\n"
     ]
    }
   ],
   "source": [
    "from ftcv.FraudTimeSplit import FraudTimeSplit\n",
    "\n",
    "ftscv = FraudTimeSplit(n_splits=5, fraud_lag=90)\n",
    "for train_idx, test_idx in ftscv.split(X, y, date_ref, fraud_detected_date_ref):\n",
    "    print(\"TRAIN\", train_idx) \n",
    "    print(\"TEST\", test_idx)"
   ]
  },
  {
   "cell_type": "markdown",
   "id": "dc93dc94",
   "metadata": {},
   "source": [
    "Obtain idx of each train/test fold with FraudTimeSplit and shorter fraud_lag. You will see that more training dataset have been selected"
   ]
  },
  {
   "cell_type": "code",
   "execution_count": 4,
   "id": "480d1770",
   "metadata": {},
   "outputs": [
    {
     "name": "stdout",
     "output_type": "stream",
     "text": [
      "TRAIN Int64Index([    0,     1,     2,     3,     4,     5,     6,     7,     8,\n",
      "                9,\n",
      "            ...\n",
      "            67468, 67510, 67527, 67529, 67887, 67986, 68111, 68309, 68523,\n",
      "            68763],\n",
      "           dtype='int64', length=55730)\n",
      "TEST Int64Index([ 55349,  55350,  55351,  55352,  55353,  55354,  55355,  55357,\n",
      "             55358,  55359,\n",
      "            ...\n",
      "            136825, 136828, 136868, 136897, 136939, 136940, 137151, 137153,\n",
      "            137154, 137401],\n",
      "           dtype='int64', length=69177)\n",
      "TRAIN Int64Index([     0,      1,      2,      3,      4,      5,      6,      7,\n",
      "                 8,      9,\n",
      "            ...\n",
      "            136825, 136828, 136868, 136897, 136939, 136940, 137151, 137153,\n",
      "            137154, 137401],\n",
      "           dtype='int64', length=124907)\n",
      "TEST Int64Index([124538, 124539, 124541, 124542, 124543, 124544, 124545, 124546,\n",
      "            124547, 124548,\n",
      "            ...\n",
      "            205240, 205241, 205249, 205266, 205579, 205581, 205601, 205627,\n",
      "            205930, 206363],\n",
      "           dtype='int64', length=68811)\n",
      "TRAIN Int64Index([     0,      1,      2,      3,      4,      5,      6,      7,\n",
      "                 8,      9,\n",
      "            ...\n",
      "            205240, 205241, 205249, 205266, 205579, 205581, 205601, 205627,\n",
      "            205930, 206363],\n",
      "           dtype='int64', length=193718)\n",
      "TEST Int64Index([193319, 193320, 193321, 193322, 193323, 193324, 193325, 193326,\n",
      "            193327, 193328,\n",
      "            ...\n",
      "            274656, 274665, 274671, 274718, 274719, 274805, 275037, 275111,\n",
      "            275112, 275918],\n",
      "           dtype='int64', length=68897)\n",
      "TRAIN Int64Index([     0,      1,      2,      3,      4,      5,      6,      7,\n",
      "                 8,      9,\n",
      "            ...\n",
      "            274656, 274665, 274671, 274718, 274719, 274805, 275037, 275111,\n",
      "            275112, 275918],\n",
      "           dtype='int64', length=262615)\n",
      "TEST Int64Index([262267, 262268, 262269, 262270, 262271, 262272, 262274, 262275,\n",
      "            262276, 262277,\n",
      "            ...\n",
      "            343819, 343894, 344015, 344212, 344213, 344272, 344481, 344482,\n",
      "            344551, 344710],\n",
      "           dtype='int64', length=69291)\n",
      "TRAIN Int64Index([     0,      1,      2,      3,      4,      5,      6,      7,\n",
      "                 8,      9,\n",
      "            ...\n",
      "            343819, 343894, 344015, 344212, 344213, 344272, 344481, 344482,\n",
      "            344551, 344710],\n",
      "           dtype='int64', length=331906)\n",
      "TEST Int64Index([331514, 331515, 331516, 331517, 331518, 331519, 331520, 331521,\n",
      "            331522, 331523,\n",
      "            ...\n",
      "            412697, 412791, 412810, 412815, 413109, 413110, 413260, 413288,\n",
      "            413597, 413772],\n",
      "           dtype='int64', length=68889)\n"
     ]
    }
   ],
   "source": [
    "from ftcv.FraudTimeSplit import FraudTimeSplit\n",
    "\n",
    "ftscv = FraudTimeSplit(n_splits=5, fraud_lag=30)\n",
    "for train_idx, test_idx in ftscv.split(X, y, date_ref, fraud_detected_date_ref):\n",
    "    print(\"TRAIN\", train_idx) \n",
    "    print(\"TEST\", test_idx)"
   ]
  },
  {
   "cell_type": "markdown",
   "id": "ba219ba7",
   "metadata": {},
   "source": [
    "carry out cross validation on XGBClassifer"
   ]
  },
  {
   "cell_type": "code",
   "execution_count": 5,
   "id": "546b07e6",
   "metadata": {},
   "outputs": [
    {
     "name": "stdout",
     "output_type": "stream",
     "text": [
      "[20:38:50] WARNING: C:\\Windows\\Temp\\abs_557yfx631l\\croots\\recipe\\xgboost-split_1659548953302\\work\\src\\learner.cc:1115: Starting in XGBoost 1.3.0, the default evaluation metric used with the objective 'binary:logistic' was changed from 'error' to 'logloss'. Explicitly set eval_metric if you'd like to restore the old behavior.\n",
      "[20:38:57] WARNING: C:\\Windows\\Temp\\abs_557yfx631l\\croots\\recipe\\xgboost-split_1659548953302\\work\\src\\learner.cc:1115: Starting in XGBoost 1.3.0, the default evaluation metric used with the objective 'binary:logistic' was changed from 'error' to 'logloss'. Explicitly set eval_metric if you'd like to restore the old behavior.\n",
      "[20:39:16] WARNING: C:\\Windows\\Temp\\abs_557yfx631l\\croots\\recipe\\xgboost-split_1659548953302\\work\\src\\learner.cc:1115: Starting in XGBoost 1.3.0, the default evaluation metric used with the objective 'binary:logistic' was changed from 'error' to 'logloss'. Explicitly set eval_metric if you'd like to restore the old behavior.\n"
     ]
    },
    {
     "data": {
      "text/plain": [
       "[0.9740034494118559, 0.9762788539612574, 0.9768259103075116]"
      ]
     },
     "execution_count": 5,
     "metadata": {},
     "output_type": "execute_result"
    }
   ],
   "source": [
    "from ftcv.fraud_time_cross_validate import fraud_time_cross_validate\n",
    "\n",
    "xgb = XGBClassifier()\n",
    "fraud_time_cross_validate(\n",
    "    xgb,\n",
    "    X,\n",
    "    y,\n",
    "    date_ref,\n",
    "    fraud_detected_date_ref,\n",
    "    n_splits=3,\n",
    "    fraud_lag=90\n",
    ")"
   ]
  },
  {
   "cell_type": "markdown",
   "id": "885c96b2",
   "metadata": {},
   "source": [
    "You can also use sklearn.pipeline"
   ]
  },
  {
   "cell_type": "code",
   "execution_count": 6,
   "id": "fedb2de0",
   "metadata": {},
   "outputs": [
    {
     "data": {
      "text/plain": [
       "[0.9689634790360558, 0.970396358259155, 0.9694431608133087]"
      ]
     },
     "execution_count": 6,
     "metadata": {},
     "output_type": "execute_result"
    }
   ],
   "source": [
    "pipe = Pipeline(\n",
    "    [\n",
    "        ('scaler', StandardScaler()), \n",
    "        ('lr', LogisticRegression())\n",
    "    ]\n",
    ")\n",
    "\n",
    "fraud_time_cross_validate(\n",
    "    pipe,\n",
    "    X,\n",
    "    y,\n",
    "    date_ref,\n",
    "    fraud_detected_date_ref,\n",
    "    n_splits=3,\n",
    "    fraud_lag=90, \n",
    ")"
   ]
  },
  {
   "cell_type": "markdown",
   "id": "693b9788",
   "metadata": {},
   "source": [
    "with different fraud_lag"
   ]
  },
  {
   "cell_type": "code",
   "execution_count": 7,
   "id": "a668145d",
   "metadata": {},
   "outputs": [
    {
     "data": {
      "text/plain": [
       "[0.9694081713529031, 0.9702573898278922, 0.9690822283218]"
      ]
     },
     "execution_count": 7,
     "metadata": {},
     "output_type": "execute_result"
    }
   ],
   "source": [
    "pipe = Pipeline(\n",
    "    [\n",
    "        ('scaler', StandardScaler()), \n",
    "        ('lr', LogisticRegression())\n",
    "    ]\n",
    ")\n",
    "\n",
    "fraud_time_cross_validate(\n",
    "    pipe,\n",
    "    X,\n",
    "    y,\n",
    "    date_ref,\n",
    "    fraud_detected_date_ref,\n",
    "    n_splits=3,\n",
    "    fraud_lag=30, \n",
    ")"
   ]
  },
  {
   "cell_type": "code",
   "execution_count": null,
   "id": "36701ade",
   "metadata": {},
   "outputs": [],
   "source": []
  },
  {
   "cell_type": "code",
   "execution_count": null,
   "id": "98c80fbd",
   "metadata": {},
   "outputs": [],
   "source": []
  }
 ],
 "metadata": {
  "kernelspec": {
   "display_name": "Python 3 (ipykernel)",
   "language": "python",
   "name": "python3"
  },
  "language_info": {
   "codemirror_mode": {
    "name": "ipython",
    "version": 3
   },
   "file_extension": ".py",
   "mimetype": "text/x-python",
   "name": "python",
   "nbconvert_exporter": "python",
   "pygments_lexer": "ipython3",
   "version": "3.9.13"
  }
 },
 "nbformat": 4,
 "nbformat_minor": 5
}
